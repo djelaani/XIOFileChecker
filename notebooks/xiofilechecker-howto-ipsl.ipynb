{
 "cells": [
  {
   "cell_type": "markdown",
   "metadata": {
    "collapsed": true
   },
   "source": [
    "How To for CMIP6\n",
    "========="
   ]
  },
  {
   "cell_type": "markdown",
   "metadata": {},
   "source": [
    "Setup the environement\n",
    "--------------------"
   ]
  },
  {
   "cell_type": "code",
   "execution_count": null,
   "metadata": {
    "collapsed": true
   },
   "outputs": [],
   "source": [
    "# Switch to GENCMIP6 env\n",
    "module switch dfldatadir dfldatadir/gencmip6\n",
    "\n",
    "# Add CMIP6 Python env to PATH\n",
    "export PATH=$GENCMIP6_ALL_CCCWORKDIR/miniconda/bin:$PATH\n",
    "\n",
    "# Activate the CMIP6 Python env\n",
    "source activate cmip6"
   ]
  },
  {
   "cell_type": "markdown",
   "metadata": {},
   "source": [
    "Generic usage (FYI)\n",
    "------------------"
   ]
  },
  {
   "cell_type": "code",
   "execution_count": null,
   "metadata": {
    "collapsed": true
   },
   "outputs": [],
   "source": [
    "# Check the version\n",
    "XIOFileChecker -v\n",
    "\n",
    "# Check the help\n",
    "XIOFileChecker -h\n",
    "\n",
    "# Debug mode with high verbosity\n",
    "XIOFileChecker --debug"
   ]
  },
  {
   "cell_type": "markdown",
   "metadata": {},
   "source": [
    "Compare DR2XML inputs with XIOS outputs\n",
    "------------------------------------"
   ]
  },
  {
   "cell_type": "code",
   "execution_count": null,
   "metadata": {
    "collapsed": true
   },
   "outputs": [],
   "source": [
    "# The simulation path can be the directory level including all XiOS output files.\n",
    "SIMULATION=$GENCMIP6_CCCWORKDIR/IGCM_OUT/IPSLCM6/PROD/1pctCO2/CM61-LR-1pctCO2-01/CMIP6/\n",
    "\n",
    "# The directory including both the config.card and run.card\n",
    "CARD_FILES=$GENCMIP6_HOME/IPSLCM6.1.2/modipsl/config/IPSLCM6/CM61-LR-1pctCO2-01/\n",
    "\n",
    "# Print differences only between DR2XML files and netCDF outputs (default)\n",
    "XIOFileChecker $SIMULATIOn --card $CARD_FILES\n",
    "\n",
    "# Defaut only print differences between DR2XML files and XIOS outputs. To print all resuts:\n",
    "XIOFileChecker $SIMULATION --card $CARD_FILES --all\n",
    "\n",
    "# XIOFileChecker display the results into a table with columns as CMIP6 filename attributes.\n",
    "# Default is to hide columns with unchanged values. To display all columns:\n",
    "XIOFileChecker $SIMULATION --card $CARD_FILES --full-table\n",
    "\n",
    "# Increase multiprocessing (default is 4 processes)\n",
    "XIOFileChecker $SIMULATION --card $CARD_FILES --max-threads 10\n",
    "\n",
    "# It could be useful to use a logfile\n",
    "LOGDIR=$GENCMIP6_CCCWORKDIR/IGCM_OUT/IPSLCM6/PROD/1pctCO2/CM61-LR-1pctCO2-01/\n",
    "XIOFileChecker $SIMULATION --card $CARD_FILES -l $LOGDIR"
   ]
  },
  {
   "cell_type": "markdown",
   "metadata": {},
   "source": [
    "Close your Python session\n",
    "-----------------------"
   ]
  },
  {
   "cell_type": "code",
   "execution_count": null,
   "metadata": {
    "collapsed": true
   },
   "outputs": [],
   "source": [
    "# Deactivate CMIP6 Python env\n",
    "source deactivate"
   ]
  }
 ],
 "metadata": {
  "kernelspec": {
   "display_name": "Python 2",
   "language": "python",
   "name": "python2"
  },
  "language_info": {
   "codemirror_mode": {
    "name": "ipython",
    "version": 2
   },
   "file_extension": ".py",
   "mimetype": "text/x-python",
   "name": "python",
   "nbconvert_exporter": "python",
   "pygments_lexer": "ipython2",
   "version": "2.7.14"
  }
 },
 "nbformat": 4,
 "nbformat_minor": 2
}
